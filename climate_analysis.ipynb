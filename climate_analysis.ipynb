{
 "cells": [
  {
   "cell_type": "code",
   "execution_count": 16,
   "metadata": {},
   "outputs": [],
   "source": [
    "%matplotlib inline\n",
    "from matplotlib import style\n",
    "style.use('fivethirtyeight')\n",
    "import matplotlib.pyplot as plt"
   ]
  },
  {
   "cell_type": "code",
   "execution_count": 17,
   "metadata": {},
   "outputs": [],
   "source": [
    "import numpy as np\n",
    "import pandas as pd"
   ]
  },
  {
   "cell_type": "code",
   "execution_count": 18,
   "metadata": {},
   "outputs": [],
   "source": [
    "import datetime as dt"
   ]
  },
  {
   "cell_type": "markdown",
   "metadata": {},
   "source": [
    "# Reflect Tables into SQLAlchemy ORM"
   ]
  },
  {
   "cell_type": "code",
   "execution_count": 19,
   "metadata": {},
   "outputs": [],
   "source": [
    "# Python SQL toolkit and Object Relational Mapper\n",
    "import sqlalchemy\n",
    "from sqlalchemy.ext.automap import automap_base\n",
    "from sqlalchemy.orm import Session\n",
    "from sqlalchemy import create_engine, func"
   ]
  },
  {
   "cell_type": "code",
   "execution_count": 20,
   "metadata": {},
   "outputs": [],
   "source": [
    "engine = create_engine('sqlite:///hawaii.sqlite')\n"
   ]
  },
  {
   "cell_type": "code",
   "execution_count": 21,
   "metadata": {},
   "outputs": [],
   "source": [
    "# reflect an existing database into a new model\n",
    "Base = automap_base()\n",
    "# reflect the tables\n",
    "Base.prepare(engine, reflect=True)\n"
   ]
  },
  {
   "cell_type": "code",
   "execution_count": 22,
   "metadata": {},
   "outputs": [
    {
     "data": {
      "text/plain": [
       "['measurement', 'station']"
      ]
     },
     "execution_count": 22,
     "metadata": {},
     "output_type": "execute_result"
    }
   ],
   "source": [
    "# We can view all of the classes that automap found\n",
    "\n",
    "Base.classes.keys()"
   ]
  },
  {
   "cell_type": "code",
   "execution_count": 23,
   "metadata": {},
   "outputs": [],
   "source": [
    "# Save references to each table\n",
    "Measurement = Base.classes.measurement\n",
    "Station = Base.classes.station"
   ]
  },
  {
   "cell_type": "code",
   "execution_count": 24,
   "metadata": {},
   "outputs": [],
   "source": [
    "# Create our session (link) from Python to the DB\n",
    "session = Session(engine)"
   ]
  },
  {
   "cell_type": "markdown",
   "metadata": {},
   "source": [
    "# Exploratory Climate Analysis"
   ]
  },
  {
   "cell_type": "code",
   "execution_count": 36,
   "metadata": {},
   "outputs": [
    {
     "name": "stdout",
     "output_type": "stream",
     "text": [
      "      date  precipitation\n",
      "2017-07-25           0.00\n",
      "2017-07-25           0.12\n",
      "2017-07-25           0.00\n",
      "2017-07-25           0.11\n",
      "2017-07-25           0.05\n",
      "2017-07-25           0.30\n",
      "2017-07-25           0.03\n",
      "2017-07-26           0.12\n",
      "2017-07-26           0.30\n",
      "2017-07-26           0.00\n",
      "2017-07-26           0.06\n",
      "2017-07-26            NaN\n",
      "2017-07-26           0.02\n",
      "2017-07-26           0.00\n",
      "2017-07-27           0.01\n",
      "2017-07-27            NaN\n",
      "2017-07-27           0.00\n",
      "2017-07-27           0.00\n",
      "2017-07-27           0.00\n",
      "2017-07-27           0.00\n",
      "2017-07-27           0.00\n",
      "2017-07-28           0.13\n",
      "2017-07-28           0.09\n",
      "2017-07-28           0.00\n",
      "2017-07-28           0.14\n",
      "2017-07-28           0.01\n",
      "2017-07-28           0.40\n",
      "2017-07-28           0.00\n",
      "2017-07-29           0.23\n",
      "2017-07-29           0.30\n",
      "2017-07-29           0.02\n",
      "2017-07-29           0.00\n",
      "2017-07-29           0.00\n",
      "2017-07-29           0.06\n",
      "2017-07-30           0.30\n",
      "2017-07-30           0.00\n",
      "2017-07-30           0.00\n",
      "2017-07-30           0.00\n",
      "2017-07-30           0.00\n",
      "2017-07-31            NaN\n",
      "2017-07-31           0.00\n",
      "2017-07-31           0.00\n",
      "2017-07-31           0.00\n",
      "2017-07-31           0.00\n",
      "2017-07-31           0.00\n",
      "2017-07-31            NaN\n",
      "2017-08-01           0.02\n",
      "2017-08-01           0.00\n",
      "2017-08-01           0.12\n",
      "2017-08-01            NaN\n",
      "2017-08-02           0.00\n",
      "2017-08-02           0.00\n",
      "2017-08-02           0.05\n",
      "2017-08-02           0.25\n",
      "2017-08-03           0.06\n",
      "2017-08-03           0.01\n",
      "2017-08-03           0.00\n",
      "2017-08-03           0.00\n",
      "2017-08-04           0.00\n",
      "2017-08-04           0.02\n",
      "2017-08-04           0.00\n",
      "2017-08-04           0.04\n",
      "2017-08-05            NaN\n",
      "2017-08-05           0.00\n",
      "2017-08-05           0.06\n",
      "2017-08-06           0.00\n",
      "2017-08-06           0.00\n",
      "2017-08-06           0.00\n",
      "2017-08-06           0.00\n",
      "2017-08-06            NaN\n",
      "2017-08-07           0.00\n",
      "2017-08-07           0.00\n",
      "2017-08-07           0.00\n",
      "2017-08-07           0.05\n",
      "2017-08-08           0.34\n",
      "2017-08-08           0.00\n",
      "2017-08-08           0.10\n",
      "2017-08-08           0.00\n",
      "2017-08-09           0.00\n",
      "2017-08-09           0.15\n",
      "2017-08-09           0.00\n",
      "2017-08-10           0.00\n",
      "2017-08-10           0.00\n",
      "2017-08-10           0.00\n",
      "2017-08-10           0.07\n",
      "2017-08-11            NaN\n",
      "2017-08-11           0.00\n",
      "2017-08-11           0.00\n",
      "2017-08-11           0.00\n",
      "2017-08-12           0.00\n",
      "2017-08-12           0.00\n",
      "2017-08-12           0.14\n",
      "2017-08-13           0.00\n",
      "2017-08-13           0.00\n",
      "2017-08-13           0.00\n",
      "2017-08-13            NaN\n",
      "2017-08-13            NaN\n",
      "2017-08-14           0.22\n",
      "2017-08-14           0.00\n",
      "2017-08-14           0.00\n",
      "2017-08-14           0.01\n",
      "2017-08-14           0.08\n",
      "2017-08-15           0.02\n",
      "2017-08-15           0.00\n",
      "2017-08-15           0.32\n",
      "2017-08-15           0.42\n",
      "2017-08-15           0.06\n",
      "2017-08-16           0.00\n",
      "2017-08-16           0.42\n",
      "2017-08-16           0.12\n",
      "2017-08-16           0.07\n",
      "2017-08-17           0.05\n",
      "2017-08-17           0.01\n",
      "2017-08-17           0.13\n",
      "2017-08-17           0.00\n",
      "2017-08-18           0.00\n",
      "2017-08-18            NaN\n",
      "2017-08-18           0.06\n",
      "2017-08-18           0.00\n",
      "2017-08-19           0.09\n",
      "2017-08-19           0.00\n",
      "2017-08-19            NaN\n",
      "2017-08-19           0.00\n",
      "2017-08-20            NaN\n",
      "2017-08-20           0.00\n",
      "2017-08-20           0.01\n",
      "2017-08-21           0.02\n",
      "2017-08-21           0.00\n",
      "2017-08-21           0.56\n",
      "2017-08-21            NaN\n",
      "2017-08-22           0.00\n",
      "2017-08-22           0.50\n",
      "2017-08-22           0.00\n",
      "2017-08-23           0.00\n",
      "2017-08-23           0.08\n",
      "2017-08-23           0.00\n",
      "2017-08-23           0.45\n"
     ]
    },
    {
     "data": {
      "text/plain": [
       "<AxesSubplot:xlabel='date'>"
      ]
     },
     "execution_count": 36,
     "metadata": {},
     "output_type": "execute_result"
    },
    {
     "data": {
      "image/png": "[encoded data removed]",
      "text/plain": [
       "<Figure size 432x288 with 1 Axes>"
      ]
     },
     "metadata": {},
     "output_type": "display_data"
    }
   ],
   "source": [
    "# Design a query to retrieve the last 12 months of precipitation data and plot the results. \n",
    "#Starting from the last data point in the database. \n",
    "\n",
    "# Calculate the date one year from the last date in data set.\n",
    "prev_year = dt.datetime(2017, 8, 23) - dt.timedelta(days=30)\n",
    "# Perform a query to retrieve the data and precipitation scores\n",
    "results = []\n",
    "results = session.query(Measurement.date, Measurement.prcp).filter(Measurement.date >= prev_year).all()\n",
    "\n",
    "# Save the query results as a Pandas DataFrame and set the index to the date column\n",
    "results_df = pd.DataFrame(results, columns=['date', 'precipitation'])\n",
    "results_df.set_index(results_df['date'], inplace=True)\n",
    "\n",
    "# Sort the dataframe by date\n",
    "results_df = results_df.sort_index()\n",
    "print(results_df.to_string(index=False))\n",
    "# Use Pandas Plotting with Matplotlib to plot the data\n",
    "results_df.plot()"
   ]
  },
  {
   "cell_type": "code",
   "execution_count": 26,
   "metadata": {},
   "outputs": [
    {
     "data": {
      "text/html": [
       "<div>\n",
       "<style scoped>\n",
       "    .dataframe tbody tr th:only-of-type {\n",
       "        vertical-align: middle;\n",
       "    }\n",
       "\n",
       "    .dataframe tbody tr th {\n",
       "        vertical-align: top;\n",
       "    }\n",
       "\n",
       "    .dataframe thead th {\n",
       "        text-align: right;\n",
       "    }\n",
       "</style>\n",
       "<table border=\"1\" class=\"dataframe\">\n",
       "  <thead>\n",
       "    <tr style=\"text-align: right;\">\n",
       "      <th></th>\n",
       "      <th>precipitation</th>\n",
       "    </tr>\n",
       "  </thead>\n",
       "  <tbody>\n",
       "    <tr>\n",
       "      <th>count</th>\n",
       "      <td>2015.000000</td>\n",
       "    </tr>\n",
       "    <tr>\n",
       "      <th>mean</th>\n",
       "      <td>0.176462</td>\n",
       "    </tr>\n",
       "    <tr>\n",
       "      <th>std</th>\n",
       "      <td>0.460288</td>\n",
       "    </tr>\n",
       "    <tr>\n",
       "      <th>min</th>\n",
       "      <td>0.000000</td>\n",
       "    </tr>\n",
       "    <tr>\n",
       "      <th>25%</th>\n",
       "      <td>0.000000</td>\n",
       "    </tr>\n",
       "    <tr>\n",
       "      <th>50%</th>\n",
       "      <td>0.020000</td>\n",
       "    </tr>\n",
       "    <tr>\n",
       "      <th>75%</th>\n",
       "      <td>0.130000</td>\n",
       "    </tr>\n",
       "    <tr>\n",
       "      <th>max</th>\n",
       "      <td>6.700000</td>\n",
       "    </tr>\n",
       "  </tbody>\n",
       "</table>\n",
       "</div>"
      ],
      "text/plain": [
       "       precipitation\n",
       "count    2015.000000\n",
       "mean        0.176462\n",
       "std         0.460288\n",
       "min         0.000000\n",
       "25%         0.000000\n",
       "50%         0.020000\n",
       "75%         0.130000\n",
       "max         6.700000"
      ]
     },
     "execution_count": 26,
     "metadata": {},
     "output_type": "execute_result"
    }
   ],
   "source": [
    "# Use Pandas to calcualte the summary statistics for the precipitation data\n",
    "results_df.describe()\n"
   ]
  },
  {
   "cell_type": "code",
   "execution_count": 27,
   "metadata": {},
   "outputs": [
    {
     "data": {
      "text/plain": [
       "[(9,)]"
      ]
     },
     "execution_count": 27,
     "metadata": {},
     "output_type": "execute_result"
    }
   ],
   "source": [
    "# How many stations are available in this dataset?\n",
    "session.query(func.count(Station.station)).all()\n"
   ]
  },
  {
   "cell_type": "code",
   "execution_count": 28,
   "metadata": {},
   "outputs": [
    {
     "data": {
      "text/plain": [
       "[('USC00519281', 2772),\n",
       " ('USC00519397', 2724),\n",
       " ('USC00513117', 2709),\n",
       " ('USC00519523', 2669),\n",
       " ('USC00516128', 2612),\n",
       " ('USC00514830', 2202),\n",
       " ('USC00511918', 1979),\n",
       " ('USC00517948', 1372),\n",
       " ('USC00518838', 511)]"
      ]
     },
     "execution_count": 28,
     "metadata": {},
     "output_type": "execute_result"
    }
   ],
   "source": [
    "# What are the most active stations?\n",
    "session.query(Measurement.station, func.count(Measurement.station)).\\\n",
    "    group_by(Measurement.station).order_by(func.count(Measurement.station).desc()).all()\n",
    "# List the stations and the counts in descending order.\n"
   ]
  },
  {
   "cell_type": "code",
   "execution_count": 29,
   "metadata": {},
   "outputs": [
    {
     "data": {
      "text/plain": [
       "[(54.0, 85.0, 71.66378066378067)]"
      ]
     },
     "execution_count": 29,
     "metadata": {},
     "output_type": "execute_result"
    }
   ],
   "source": [
    "# Using the station id from the previous query, calculate the lowest temperature recorded, \n",
    "# highest temperature recorded, and average temperature most active station?\n",
    "session.query(func.min(Measurement.tobs), func.max(Measurement.tobs), func.avg(Measurement.tobs)).\\\n",
    "    filter(Measurement.station == 'USC00519281').all()"
   ]
  },
  {
   "cell_type": "code",
   "execution_count": 30,
   "metadata": {},
   "outputs": [
    {
     "name": "stdout",
     "output_type": "stream",
     "text": [
      "     tobs\n",
      "0    77.0\n",
      "1    80.0\n",
      "2    80.0\n",
      "3    75.0\n",
      "4    73.0\n",
      "..    ...\n",
      "346  77.0\n",
      "347  77.0\n",
      "348  76.0\n",
      "349  76.0\n",
      "350  79.0\n",
      "\n",
      "[351 rows x 1 columns]\n"
     ]
    },
    {
     "data": {
      "image/png": "[encoded data removed]",
      "text/plain": [
       "<Figure size 432x288 with 1 Axes>"
      ]
     },
     "metadata": {},
     "output_type": "display_data"
    }
   ],
   "source": [
    "# Choose the station with the highest number of temperature observations.\n",
    "results = session.query(Measurement.tobs).\\\n",
    "    filter(Measurement.station == 'USC00519281').\\\n",
    "        filter(Measurement.date >= prev_year).all()\n",
    "\n",
    "df = pd.DataFrame(results, columns=['tobs'])\n",
    "\n",
    "print(df)\n",
    "# Query the last 12 months of temperature observation data for this station and plot the results as a histogram\n",
    "df.plot.hist(bins=12)\n",
    "plt.tight_layout()\n",
    "session.close()"
   ]
  },
  {
   "cell_type": "code",
   "execution_count": 31,
   "metadata": {},
   "outputs": [],
   "source": [
    "# Write a function called `calc_temps` that will accept start date and end date in the format '%Y-%m-%d' \n",
    "# and return the minimum, average, and maximum temperatures for that range of dates\n"
   ]
  },
  {
   "cell_type": "markdown",
   "metadata": {},
   "source": [
    "# Challenge"
   ]
  },
  {
   "cell_type": "code",
   "execution_count": null,
   "metadata": {},
   "outputs": [],
   "source": []
  },
  {
   "cell_type": "code",
   "execution_count": null,
   "metadata": {},
   "outputs": [],
   "source": []
  }
 ],
 "metadata": {
  "kernelspec": {
   "display_name": "Python 3",
   "language": "python",
   "name": "python3"
  },
  "language_info": {
   "codemirror_mode": {
    "name": "ipython",
    "version": 3
   },
   "file_extension": ".py",
   "mimetype": "text/x-python",
   "name": "python",
   "nbconvert_exporter": "python",
   "pygments_lexer": "ipython3",
   "version": "3.9.7"
  }
 },
 "nbformat": 4,
 "nbformat_minor": 2
}
